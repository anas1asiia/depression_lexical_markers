{
 "cells": [
  {
   "cell_type": "markdown",
   "id": "96b4dcfb",
   "metadata": {},
   "source": [
    "## Elastic Net Embeddings\n",
    "\n",
    "elastic_net_embed.ipynb\n",
    "\n",
    "This script helps examine predictive power of MPNet vector embeddings for predicting\n",
    "depression symptom severity (PHQ-8 scores) using Elastic Net regression. It includes \n",
    "preprocessing steps, dimensionality reduction, and hyperparameter tuning.\n",
    "Developed as part of a study on multilingual lexical markers and depression severity.\n",
    "\n",
    "\n",
    "**Usage**:\n",
    "- Place your input CSV file in the desired directory.\n",
    "- Make sure the file includes columns starting with 'MPNet' containing MPNet embeddings.\n",
    "\n",
    "**Author**: Anastasiia Tokareva\n",
    "\n",
    "\n",
    "### Models tested:\n",
    "1. Full embeddings\n",
    "2. Embeddings + TSVD dimensionality reduction"
   ]
  },
  {
   "cell_type": "code",
   "execution_count": 1,
   "id": "2f056706",
   "metadata": {},
   "outputs": [],
   "source": [
    "## Load libraries\n",
    "import pandas as pd\n",
    "import numpy as np\n",
    "from sklearn.pipeline import Pipeline\n",
    "from sklearn.feature_extraction.text import TfidfVectorizer\n",
    "from sklearn.preprocessing import StandardScaler, FunctionTransformer\n",
    "from sklearn.compose import ColumnTransformer\n",
    "\n",
    "from sklearn.linear_model import ElasticNet\n",
    "\n",
    "from sklearn.metrics import make_scorer, mean_squared_error, r2_score, mean_absolute_error\n",
    "\n",
    "from sklearn.model_selection import GroupKFold, cross_validate, GridSearchCV \n",
    "from sklearn.model_selection import StratifiedKFold\n",
    "\n",
    "from sklearn.feature_selection import SelectKBest, f_regression\n",
    "from sklearn.decomposition import PCA\n",
    "from sklearn.decomposition import TruncatedSVD\n"
   ]
  },
  {
   "cell_type": "code",
   "execution_count": null,
   "id": "1d8204a6-7dd5-41b8-a393-b3d5ae38845c",
   "metadata": {},
   "outputs": [],
   "source": [
    "## 1. Clean data\n",
    "data = pd.read_csv(\"C:/Users/your/file/name/here.csv\")  \n",
    "data_cleaned = data.dropna(axis=0) \n",
    "\n",
    "## 2. Binarise COVID data\n",
    "data_cleaned['Recording_Date'] = pd.to_datetime(data_cleaned['Recording_Date'])\n",
    "\n",
    "# define COVID lockdown start and end dates (dates based on Leightley et al. (2021), https://pubmed.ncbi.nlm.nih.gov/34488697/)\n",
    "covid_start = pd.to_datetime('2020-03-23')\n",
    "covid_end = pd.to_datetime('2021-05-11')\n",
    "\n",
    "data_cleaned['COVID'] = ((data_cleaned['Recording_Date'] >= covid_start) & (data_cleaned['Recording_Date'] <= covid_end)).astype(int)\n",
    "\n",
    "# COVID now added as the last column (0/1)\n",
    "data_cleaned.head(n=5)"
   ]
  },
  {
   "cell_type": "markdown",
   "id": "44867438",
   "metadata": {},
   "source": [
    "#### 1. Full embeddings"
   ]
  },
  {
   "cell_type": "code",
   "execution_count": 25,
   "id": "15a65a1f",
   "metadata": {},
   "outputs": [],
   "source": [
    "# Define MPNet columns \n",
    "mpnet = [col for col in data_cleaned.columns if col.startswith('Mpnet_')]  # extract MPNet column names\n",
    "\n",
    "# Define column transformer (StandardScaler for numerical, FunctionTransformer for raw features)\n",
    "preprocessor = ColumnTransformer([\n",
    "    ('num_scaler', StandardScaler(), ['Age', 'Education_Years'] + mpnet),               # scale numerical features + embeddings\n",
    "    ('num_raw', FunctionTransformer(lambda x: x, validate=False), ['Gender', 'COVID'])  # keeps dummy variables unscaled\n",
    "])\n",
    "\n",
    "# Define the pipeline\n",
    "pipeline_1 = Pipeline([\n",
    "    ('preprocessing', preprocessor),\n",
    "    ('regressor',  ElasticNet(max_iter = 10000))  \n",
    "])\n"
   ]
  },
  {
   "cell_type": "markdown",
   "id": "3f4be160",
   "metadata": {},
   "source": [
    "#### Grid search parameters"
   ]
  },
  {
   "cell_type": "code",
   "execution_count": 26,
   "id": "bd251155",
   "metadata": {},
   "outputs": [],
   "source": [
    "param_grid = {\n",
    "    'regressor__alpha': [0.1, 0.5, 1.0],     # regularisation strength \n",
    "    'regressor__l1_ratio': [0.1, 0.5, 0.9]   # balance between Lasso (l1) and Ridge (l2)\n",
    "}"
   ]
  },
  {
   "cell_type": "markdown",
   "id": "2cf61b3e",
   "metadata": {},
   "source": [
    "#### 2. Embeddings + TSVD dimensionality reduction"
   ]
  },
  {
   "cell_type": "code",
   "execution_count": 27,
   "id": "cfaa0f9c",
   "metadata": {},
   "outputs": [],
   "source": [
    "# Define column transformer (StandardScaler for numerical, and FunctionTransformer for raw features)\n",
    "preprocessor = ColumnTransformer([\n",
    "    ('num_scaler', StandardScaler(), ['Age', 'Education_Years'] + mpnet),               # scale numerical features + embeddings\n",
    "    ('num_raw', FunctionTransformer(lambda x: x, validate=False), ['Gender', 'COVID'])  # keeps dummy variables unscaled\n",
    "])\n",
    "\n",
    "# Define the pipeline\n",
    "pipeline_2 = Pipeline([\n",
    "    ('preprocessing', preprocessor),  \n",
    "    ('pca', TruncatedSVD(n_components=100)), \n",
    "    ('regressor',  ElasticNet()) \n",
    "])\n"
   ]
  },
  {
   "cell_type": "markdown",
   "id": "1d6d5fe8",
   "metadata": {},
   "source": [
    "### Custom RMSE"
   ]
  },
  {
   "cell_type": "code",
   "execution_count": 28,
   "id": "4698287c",
   "metadata": {},
   "outputs": [],
   "source": [
    "# Custom RMSE scorer\n",
    "def rmse(y_true, y_pred):\n",
    "    return np.sqrt(mean_squared_error(y_true, y_pred))\n",
    "\n",
    "# Define the scorers dictionary\n",
    "scorers = {\n",
    "    'rmse': make_scorer(rmse), \n",
    "    'r2': make_scorer(r2_score)\n",
    "}"
   ]
  },
  {
   "cell_type": "markdown",
   "id": "c6d42bd9",
   "metadata": {},
   "source": [
    "### Set up nested CV"
   ]
  },
  {
   "cell_type": "code",
   "execution_count": 29,
   "id": "0072cbb9",
   "metadata": {},
   "outputs": [],
   "source": [
    "# demographic variables and all embeddings\n",
    "X = data_cleaned[['Age','Education_Years','Gender', 'COVID'] + mpnet]\n",
    "\n",
    "# y = data_cleaned[['PHQ8']]\n",
    "y = data_cleaned['PHQ8']\n",
    "groups = data_cleaned['participant_ID']"
   ]
  },
  {
   "cell_type": "code",
   "execution_count": 30,
   "id": "7f6d735e",
   "metadata": {},
   "outputs": [],
   "source": [
    "# Define the outer cross-validation strategy (GroupKFold)\n",
    "inner_cv = GroupKFold(n_splits=5)\n",
    "outer_cv = GroupKFold(n_splits=5)"
   ]
  },
  {
   "cell_type": "markdown",
   "id": "87180062",
   "metadata": {},
   "source": [
    "#### 1. Full embeddings"
   ]
  },
  {
   "cell_type": "code",
   "execution_count": null,
   "id": "80cc5d5f-c182-4c98-ab0d-0df2a2c81ed0",
   "metadata": {},
   "outputs": [],
   "source": [
    "# Inner Loop\n",
    "Inner_Grid = GridSearchCV(pipeline_1,\n",
    "                          param_grid,\n",
    "                          verbose = 1,\n",
    "                          cv=inner_cv,\n",
    "                          refit='rmse',\n",
    "                          return_train_score=True  \n",
    "                         )\n",
    "\n",
    "# Outer Loop\n",
    "nested_results = cross_validate(Inner_Grid, X, y, \n",
    "                                cv=outer_cv,\n",
    "                                groups=groups,\n",
    "                                params={'groups': groups}, # pass group information to inner split \n",
    "                                scoring=scorers,\n",
    "                                return_train_score=True)   # optionally return train scores\n",
    "\n",
    "print(f\"Average Inner RMSE: {np.mean(nested_results['train_rmse']):.2f}\")\n",
    "print(f\"Average Inner R²: {np.mean(nested_results['train_r2']):.2f}\")\n",
    "print(f\"Average Outer RMSE: {np.mean(nested_results['test_rmse']):.2f}\")\n",
    "print(f\"Average Outer R²: {np.mean(nested_results['test_r2']):.2f}\")"
   ]
  },
  {
   "cell_type": "markdown",
   "id": "f554421a",
   "metadata": {},
   "source": [
    "#### 2. Embeddings + TSVD dimensionality reduction"
   ]
  },
  {
   "cell_type": "code",
   "execution_count": null,
   "id": "5826c2c5-5e7e-46a1-a1c2-dad394678b90",
   "metadata": {},
   "outputs": [],
   "source": [
    "# Inner Loop\n",
    "Inner_Grid = GridSearchCV(pipeline_2,\n",
    "                          param_grid,\n",
    "                          verbose = 1,\n",
    "                          cv=inner_cv,\n",
    "                          refit='rmse',\n",
    "                          return_train_score=True  \n",
    "                         )\n",
    "\n",
    "# Outer Loop\n",
    "nested_results = cross_validate(Inner_Grid, X, y, \n",
    "                                cv=outer_cv,\n",
    "                                groups=groups,\n",
    "                                params={'groups': groups}, # pass group information to inner split \n",
    "                                scoring=scorers,\n",
    "                                return_train_score=True)   # optionally return train scores\n",
    "\n",
    "print(f\"Average Inner RMSE: {np.mean(nested_results['train_rmse']):.2f}\")\n",
    "print(f\"Average Inner R²: {np.mean(nested_results['train_r2']):.2f}\")\n",
    "print(f\"Average Outer RMSE: {np.mean(nested_results['test_rmse']):.2f}\")\n",
    "print(f\"Average Outer R²: {np.mean(nested_results['test_r2']):.2f}\")"
   ]
  }
 ],
 "metadata": {
  "kernelspec": {
   "display_name": "Python 3 (ipykernel)",
   "language": "python",
   "name": "python3"
  },
  "language_info": {
   "codemirror_mode": {
    "name": "ipython",
    "version": 3
   },
   "file_extension": ".py",
   "mimetype": "text/x-python",
   "name": "python",
   "nbconvert_exporter": "python",
   "pygments_lexer": "ipython3",
   "version": "3.12.2"
  }
 },
 "nbformat": 4,
 "nbformat_minor": 5
}
